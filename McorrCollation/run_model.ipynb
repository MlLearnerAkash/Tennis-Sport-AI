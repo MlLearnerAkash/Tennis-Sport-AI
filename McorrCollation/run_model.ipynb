{
 "cells": [
  {
   "cell_type": "code",
   "execution_count": 19,
   "metadata": {},
   "outputs": [],
   "source": [
    "import torch\n",
    "from Training.vid2player3d.embodied_pose.agents.im_agent import ImitatorAgent\n",
    "\n",
    "\n",
    "pth_path = '/Users/charlieturner/Downloads/Humanoid_latest.pth'\n",
    "\n",
    "agent = ImitatorAgent()\n",
    "\n",
    "# model is a dict\n",
    "#run the model\n"
   ]
  },
  {
   "cell_type": "code",
   "execution_count": null,
   "metadata": {},
   "outputs": [],
   "source": []
  }
 ],
 "metadata": {
  "kernelspec": {
   "display_name": "rlgpu",
   "language": "python",
   "name": "python3"
  },
  "language_info": {
   "codemirror_mode": {
    "name": "ipython",
    "version": 3
   },
   "file_extension": ".py",
   "mimetype": "text/x-python",
   "name": "python",
   "nbconvert_exporter": "python",
   "pygments_lexer": "ipython3",
   "version": "3.8.19"
  }
 },
 "nbformat": 4,
 "nbformat_minor": 2
}
