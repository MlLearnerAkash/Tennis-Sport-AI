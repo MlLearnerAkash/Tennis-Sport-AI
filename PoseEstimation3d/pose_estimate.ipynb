{
 "cells": [
  {
   "cell_type": "code",
   "execution_count": 1,
   "metadata": {},
   "outputs": [],
   "source": [
    "# Run this notebook within the hybrik environment (conda)\n"
   ]
  },
  {
   "cell_type": "code",
   "execution_count": 2,
   "metadata": {},
   "outputs": [
    {
     "name": "stdout",
     "output_type": "stream",
     "text": [
      "/Users/charlieturner/Documents/proj/ImitationPreprocess/PoseEstimation3d/HybrIK\n",
      "Obtaining file:///Users/charlieturner/Documents/proj/ImitationPreprocess/PoseEstimation3d/HybrIK\n",
      "  Preparing metadata (setup.py) ... \u001b[?25ldone\n",
      "\u001b[?25hRequirement already satisfied: numpy in /Users/charlieturner/miniforge3/envs/hybrik/lib/python3.8/site-packages (from hybrik==0.2.0+9b8681d) (1.24.4)\n",
      "Requirement already satisfied: six in /Users/charlieturner/miniforge3/envs/hybrik/lib/python3.8/site-packages (from hybrik==0.2.0+9b8681d) (1.16.0)\n",
      "Requirement already satisfied: terminaltables in /Users/charlieturner/miniforge3/envs/hybrik/lib/python3.8/site-packages (from hybrik==0.2.0+9b8681d) (3.1.10)\n",
      "Requirement already satisfied: scipy in /Users/charlieturner/miniforge3/envs/hybrik/lib/python3.8/site-packages (from hybrik==0.2.0+9b8681d) (1.10.1)\n",
      "Requirement already satisfied: cython in /Users/charlieturner/miniforge3/envs/hybrik/lib/python3.8/site-packages (from hybrik==0.2.0+9b8681d) (3.0.10)\n",
      "Requirement already satisfied: opencv-python in /Users/charlieturner/miniforge3/envs/hybrik/lib/python3.8/site-packages (from hybrik==0.2.0+9b8681d) (4.9.0.80)\n",
      "Requirement already satisfied: matplotlib in /Users/charlieturner/miniforge3/envs/hybrik/lib/python3.8/site-packages (from hybrik==0.2.0+9b8681d) (3.7.5)\n",
      "Requirement already satisfied: pycocotools in /Users/charlieturner/miniforge3/envs/hybrik/lib/python3.8/site-packages (from hybrik==0.2.0+9b8681d) (2.0.7)\n",
      "Requirement already satisfied: tqdm in /Users/charlieturner/miniforge3/envs/hybrik/lib/python3.8/site-packages (from hybrik==0.2.0+9b8681d) (4.66.4)\n",
      "Requirement already satisfied: easydict in /Users/charlieturner/miniforge3/envs/hybrik/lib/python3.8/site-packages (from hybrik==0.2.0+9b8681d) (1.13)\n",
      "Requirement already satisfied: chumpy in /Users/charlieturner/miniforge3/envs/hybrik/lib/python3.8/site-packages (from hybrik==0.2.0+9b8681d) (0.70)\n",
      "Requirement already satisfied: pyyaml in /Users/charlieturner/miniforge3/envs/hybrik/lib/python3.8/site-packages (from hybrik==0.2.0+9b8681d) (6.0.1)\n",
      "Requirement already satisfied: tb-nightly in /Users/charlieturner/miniforge3/envs/hybrik/lib/python3.8/site-packages (from hybrik==0.2.0+9b8681d) (2.14.0a20230808)\n",
      "Requirement already satisfied: future in /Users/charlieturner/miniforge3/envs/hybrik/lib/python3.8/site-packages (from hybrik==0.2.0+9b8681d) (1.0.0)\n",
      "Requirement already satisfied: ffmpeg-python in /Users/charlieturner/miniforge3/envs/hybrik/lib/python3.8/site-packages (from hybrik==0.2.0+9b8681d) (0.2.0)\n",
      "Requirement already satisfied: joblib in /Users/charlieturner/miniforge3/envs/hybrik/lib/python3.8/site-packages (from hybrik==0.2.0+9b8681d) (1.4.2)\n",
      "Requirement already satisfied: contourpy>=1.0.1 in /Users/charlieturner/miniforge3/envs/hybrik/lib/python3.8/site-packages (from matplotlib->hybrik==0.2.0+9b8681d) (1.1.1)\n",
      "Requirement already satisfied: cycler>=0.10 in /Users/charlieturner/miniforge3/envs/hybrik/lib/python3.8/site-packages (from matplotlib->hybrik==0.2.0+9b8681d) (0.12.1)\n",
      "Requirement already satisfied: fonttools>=4.22.0 in /Users/charlieturner/miniforge3/envs/hybrik/lib/python3.8/site-packages (from matplotlib->hybrik==0.2.0+9b8681d) (4.51.0)\n",
      "Requirement already satisfied: kiwisolver>=1.0.1 in /Users/charlieturner/miniforge3/envs/hybrik/lib/python3.8/site-packages (from matplotlib->hybrik==0.2.0+9b8681d) (1.4.5)\n",
      "Requirement already satisfied: packaging>=20.0 in /Users/charlieturner/miniforge3/envs/hybrik/lib/python3.8/site-packages (from matplotlib->hybrik==0.2.0+9b8681d) (24.0)\n",
      "Requirement already satisfied: pillow>=6.2.0 in /Users/charlieturner/miniforge3/envs/hybrik/lib/python3.8/site-packages (from matplotlib->hybrik==0.2.0+9b8681d) (6.2.0)\n",
      "Requirement already satisfied: pyparsing>=2.3.1 in /Users/charlieturner/miniforge3/envs/hybrik/lib/python3.8/site-packages (from matplotlib->hybrik==0.2.0+9b8681d) (3.1.2)\n",
      "Requirement already satisfied: python-dateutil>=2.7 in /Users/charlieturner/miniforge3/envs/hybrik/lib/python3.8/site-packages (from matplotlib->hybrik==0.2.0+9b8681d) (2.9.0)\n",
      "Requirement already satisfied: importlib-resources>=3.2.0 in /Users/charlieturner/miniforge3/envs/hybrik/lib/python3.8/site-packages (from matplotlib->hybrik==0.2.0+9b8681d) (6.4.0)\n",
      "Requirement already satisfied: absl-py>=0.4 in /Users/charlieturner/miniforge3/envs/hybrik/lib/python3.8/site-packages (from tb-nightly->hybrik==0.2.0+9b8681d) (2.1.0)\n",
      "Requirement already satisfied: grpcio>=1.48.2 in /Users/charlieturner/miniforge3/envs/hybrik/lib/python3.8/site-packages (from tb-nightly->hybrik==0.2.0+9b8681d) (1.63.0)\n",
      "Requirement already satisfied: google-auth<3,>=1.6.3 in /Users/charlieturner/miniforge3/envs/hybrik/lib/python3.8/site-packages (from tb-nightly->hybrik==0.2.0+9b8681d) (2.29.0)\n",
      "Requirement already satisfied: google-auth-oauthlib<1.1,>=0.5 in /Users/charlieturner/miniforge3/envs/hybrik/lib/python3.8/site-packages (from tb-nightly->hybrik==0.2.0+9b8681d) (1.0.0)\n",
      "Requirement already satisfied: markdown>=2.6.8 in /Users/charlieturner/miniforge3/envs/hybrik/lib/python3.8/site-packages (from tb-nightly->hybrik==0.2.0+9b8681d) (3.6)\n",
      "Requirement already satisfied: protobuf>=3.19.6 in /Users/charlieturner/miniforge3/envs/hybrik/lib/python3.8/site-packages (from tb-nightly->hybrik==0.2.0+9b8681d) (5.26.1)\n",
      "Requirement already satisfied: requests<3,>=2.21.0 in /Users/charlieturner/miniforge3/envs/hybrik/lib/python3.8/site-packages (from tb-nightly->hybrik==0.2.0+9b8681d) (2.31.0)\n",
      "Requirement already satisfied: setuptools>=41.0.0 in /Users/charlieturner/miniforge3/envs/hybrik/lib/python3.8/site-packages (from tb-nightly->hybrik==0.2.0+9b8681d) (69.5.1)\n",
      "Requirement already satisfied: tensorboard-data-server<0.8.0,>=0.7.0 in /Users/charlieturner/miniforge3/envs/hybrik/lib/python3.8/site-packages (from tb-nightly->hybrik==0.2.0+9b8681d) (0.7.2)\n",
      "Requirement already satisfied: werkzeug>=1.0.1 in /Users/charlieturner/miniforge3/envs/hybrik/lib/python3.8/site-packages (from tb-nightly->hybrik==0.2.0+9b8681d) (3.0.3)\n",
      "Requirement already satisfied: wheel>=0.26 in /Users/charlieturner/miniforge3/envs/hybrik/lib/python3.8/site-packages (from tb-nightly->hybrik==0.2.0+9b8681d) (0.43.0)\n",
      "Requirement already satisfied: cachetools<6.0,>=2.0.0 in /Users/charlieturner/miniforge3/envs/hybrik/lib/python3.8/site-packages (from google-auth<3,>=1.6.3->tb-nightly->hybrik==0.2.0+9b8681d) (5.3.3)\n",
      "Requirement already satisfied: pyasn1-modules>=0.2.1 in /Users/charlieturner/miniforge3/envs/hybrik/lib/python3.8/site-packages (from google-auth<3,>=1.6.3->tb-nightly->hybrik==0.2.0+9b8681d) (0.4.0)\n",
      "Requirement already satisfied: rsa<5,>=3.1.4 in /Users/charlieturner/miniforge3/envs/hybrik/lib/python3.8/site-packages (from google-auth<3,>=1.6.3->tb-nightly->hybrik==0.2.0+9b8681d) (4.9)\n",
      "Requirement already satisfied: requests-oauthlib>=0.7.0 in /Users/charlieturner/miniforge3/envs/hybrik/lib/python3.8/site-packages (from google-auth-oauthlib<1.1,>=0.5->tb-nightly->hybrik==0.2.0+9b8681d) (2.0.0)\n",
      "Requirement already satisfied: zipp>=3.1.0 in /Users/charlieturner/miniforge3/envs/hybrik/lib/python3.8/site-packages (from importlib-resources>=3.2.0->matplotlib->hybrik==0.2.0+9b8681d) (3.17.0)\n",
      "Requirement already satisfied: importlib-metadata>=4.4 in /Users/charlieturner/miniforge3/envs/hybrik/lib/python3.8/site-packages (from markdown>=2.6.8->tb-nightly->hybrik==0.2.0+9b8681d) (7.1.0)\n",
      "Requirement already satisfied: charset-normalizer<4,>=2 in /Users/charlieturner/miniforge3/envs/hybrik/lib/python3.8/site-packages (from requests<3,>=2.21.0->tb-nightly->hybrik==0.2.0+9b8681d) (3.3.2)\n",
      "Requirement already satisfied: idna<4,>=2.5 in /Users/charlieturner/miniforge3/envs/hybrik/lib/python3.8/site-packages (from requests<3,>=2.21.0->tb-nightly->hybrik==0.2.0+9b8681d) (3.7)\n",
      "Requirement already satisfied: urllib3<3,>=1.21.1 in /Users/charlieturner/miniforge3/envs/hybrik/lib/python3.8/site-packages (from requests<3,>=2.21.0->tb-nightly->hybrik==0.2.0+9b8681d) (2.2.1)\n",
      "Requirement already satisfied: certifi>=2017.4.17 in /Users/charlieturner/miniforge3/envs/hybrik/lib/python3.8/site-packages (from requests<3,>=2.21.0->tb-nightly->hybrik==0.2.0+9b8681d) (2024.2.2)\n",
      "Requirement already satisfied: MarkupSafe>=2.1.1 in /Users/charlieturner/miniforge3/envs/hybrik/lib/python3.8/site-packages (from werkzeug>=1.0.1->tb-nightly->hybrik==0.2.0+9b8681d) (2.1.5)\n",
      "Requirement already satisfied: pyasn1<0.7.0,>=0.4.6 in /Users/charlieturner/miniforge3/envs/hybrik/lib/python3.8/site-packages (from pyasn1-modules>=0.2.1->google-auth<3,>=1.6.3->tb-nightly->hybrik==0.2.0+9b8681d) (0.6.0)\n",
      "Requirement already satisfied: oauthlib>=3.0.0 in /Users/charlieturner/miniforge3/envs/hybrik/lib/python3.8/site-packages (from requests-oauthlib>=0.7.0->google-auth-oauthlib<1.1,>=0.5->tb-nightly->hybrik==0.2.0+9b8681d) (3.2.2)\n",
      "Installing collected packages: hybrik\n",
      "  Attempting uninstall: hybrik\n",
      "    Found existing installation: hybrik 0.2.0+9b8681d\n",
      "    Uninstalling hybrik-0.2.0+9b8681d:\n",
      "      Successfully uninstalled hybrik-0.2.0+9b8681d\n",
      "  Running setup.py develop for hybrik\n",
      "Successfully installed hybrik-0.2.0+9b8681d\n",
      "Note: you may need to restart the kernel to use updated packages.\n"
     ]
    }
   ],
   "source": [
    "# If directory HybrIK doesn't exist, clone it\n",
    "import os\n",
    "if not os.path.exists('HybrIK'):\n",
    "    !git clone https://github.com/Jeff-sjtu/HybrIK.git\n",
    "    # then need to change the required opencv-python version in setup.py to just 'opencv-python'\n",
    "        \n",
    "%cd HybrIK\n",
    "%pip install -e ."
   ]
  },
  {
   "cell_type": "code",
   "execution_count": 22,
   "metadata": {},
   "outputs": [
    {
     "name": "stdout",
     "output_type": "stream",
     "text": [
      "Requirement already satisfied: gdown in /Users/charlieturner/miniforge3/envs/hybrik/lib/python3.8/site-packages (5.2.0)\n",
      "Requirement already satisfied: beautifulsoup4 in /Users/charlieturner/miniforge3/envs/hybrik/lib/python3.8/site-packages (from gdown) (4.12.3)\n",
      "Requirement already satisfied: filelock in /Users/charlieturner/miniforge3/envs/hybrik/lib/python3.8/site-packages (from gdown) (3.14.0)\n",
      "Requirement already satisfied: requests[socks] in /Users/charlieturner/miniforge3/envs/hybrik/lib/python3.8/site-packages (from gdown) (2.31.0)\n",
      "Requirement already satisfied: tqdm in /Users/charlieturner/miniforge3/envs/hybrik/lib/python3.8/site-packages (from gdown) (4.66.4)\n",
      "Requirement already satisfied: soupsieve>1.2 in /Users/charlieturner/miniforge3/envs/hybrik/lib/python3.8/site-packages (from beautifulsoup4->gdown) (2.5)\n",
      "Requirement already satisfied: charset-normalizer<4,>=2 in /Users/charlieturner/miniforge3/envs/hybrik/lib/python3.8/site-packages (from requests[socks]->gdown) (3.3.2)\n",
      "Requirement already satisfied: idna<4,>=2.5 in /Users/charlieturner/miniforge3/envs/hybrik/lib/python3.8/site-packages (from requests[socks]->gdown) (3.7)\n",
      "Requirement already satisfied: urllib3<3,>=1.21.1 in /Users/charlieturner/miniforge3/envs/hybrik/lib/python3.8/site-packages (from requests[socks]->gdown) (2.2.1)\n",
      "Requirement already satisfied: certifi>=2017.4.17 in /Users/charlieturner/miniforge3/envs/hybrik/lib/python3.8/site-packages (from requests[socks]->gdown) (2024.2.2)\n",
      "Requirement already satisfied: PySocks!=1.5.7,>=1.5.6 in /Users/charlieturner/miniforge3/envs/hybrik/lib/python3.8/site-packages (from requests[socks]->gdown) (1.7.1)\n",
      "Note: you may need to restart the kernel to use updated packages.\n",
      "Downloading...\n",
      "From (original): https://drive.google.com/uc?id=1o3z99bebm2XImElc3XEUzTNVhQboGJE9\n",
      "From (redirected): https://drive.google.com/uc?id=1o3z99bebm2XImElc3XEUzTNVhQboGJE9&confirm=t&uuid=73075656-acc3-4d86-86d7-a9561f32224a\n",
      "To: /Users/charlieturner/Documents/proj/ImitationPreprocess/PoseEstimation3d/HybrIK/pretrained_models/hybrik_hrnet.pth\n",
      " 62%|████████████████████████▉               | 202M/324M [00:17<00:09, 13.2MB/s]"
     ]
    }
   ],
   "source": [
    "%pip install gdown --upgrade\n",
    "\n",
    "if not os.path.exists('model_files'):\n",
    "    !gdown 'https://drive.google.com/uc?id=1un9yAGlGjDooPwlnwFpJrbGHRiLaBNzV'\n",
    "    !unzip model_files.zip\n",
    "    !rm model_files.zip\n",
    "\n",
    "if not os.path.exists('pretrained_models/hybrikx_hrnet.pth'):\n",
    "    !mkdir -p pretrained_models\n",
    "    !gdown 'https://drive.google.com/uc?id=1bKIPD60z_Im4S3W2-rew6YtOtUGff6-v' -O pretrained_models/hybrikx_hrnet.pth\n",
    "\n",
    "if not os.path.exists('pretrained_models/hybrik_hrnet.pth'):\n",
    "    !mkdir -p pretrained_models\n",
    "    !gdown 'https://drive.google.com/uc?id=1o3z99bebm2XImElc3XEUzTNVhQboGJE9' -O pretrained_models/hybrik_hrnet.pth\n",
    "\n",
    "print(\"*\" * 80)\n",
    "\n",
    "%pip install numpy==1.23.1\n",
    "!python scripts/demo_image.py --img-dir examples --out-dir res\n"
   ]
  },
  {
   "cell_type": "code",
   "execution_count": null,
   "metadata": {},
   "outputs": [],
   "source": []
  }
 ],
 "metadata": {
  "kernelspec": {
   "display_name": "Boats",
   "language": "python",
   "name": "python3"
  },
  "language_info": {
   "codemirror_mode": {
    "name": "ipython",
    "version": 3
   },
   "file_extension": ".py",
   "mimetype": "text/x-python",
   "name": "python",
   "nbconvert_exporter": "python",
   "pygments_lexer": "ipython3",
   "version": "3.8.19"
  }
 },
 "nbformat": 4,
 "nbformat_minor": 2
}
