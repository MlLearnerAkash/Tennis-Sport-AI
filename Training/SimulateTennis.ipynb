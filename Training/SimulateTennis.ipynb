{
 "cells": [
  {
   "cell_type": "markdown",
   "metadata": {
    "id": "ToBTxWapdiQF"
   },
   "source": [
    "# Initialisation"
   ]
  },
  {
   "cell_type": "code",
   "execution_count": 2,
   "metadata": {
    "colab": {
     "base_uri": "https://localhost:8080/"
    },
    "executionInfo": {
     "elapsed": 64566,
     "status": "ok",
     "timestamp": 1715898907260,
     "user": {
      "displayName": "Charlie Turner",
      "userId": "08536662203952271116"
     },
     "user_tz": -600
    },
    "id": "QCaYuwg6Sr9o",
    "outputId": "b5d677b8-7e8e-45cf-ab15-5e5cb94c4f52"
   },
   "outputs": [],
   "source": [
    "# # conda environment setup - USE ISAACGYM env\n",
    "# !conda create -n vid2player python=3.7\n",
    "# !source activate vid2player \n",
    "\n",
    "###  The Colab notebook might automatically restart. You can directly run the next block. ###"
   ]
  },
  {
   "cell_type": "code",
   "execution_count": 1,
   "metadata": {
    "colab": {
     "base_uri": "https://localhost:8080/"
    },
    "executionInfo": {
     "elapsed": 590,
     "status": "ok",
     "timestamp": 1715898907804,
     "user": {
      "displayName": "Charlie Turner",
      "userId": "08536662203952271116"
     },
     "user_tz": -600
    },
    "id": "BnA60iOkUSDo",
    "outputId": "5888fb7b-417a-4b16-a697-a1963e76a287"
   },
   "outputs": [
    {
     "name": "stdout",
     "output_type": "stream",
     "text": [
      "nvcc: NVIDIA (R) Cuda compiler driver\n",
      "Copyright (c) 2005-2024 NVIDIA Corporation\n",
      "Built on Thu_Mar_28_02:18:24_PDT_2024\n",
      "Cuda compilation tools, release 12.4, V12.4.131\n",
      "Build cuda_12.4.r12.4/compiler.34097967_0\n",
      "Tue Mar 18 04:34:23 2025       \n",
      "+-----------------------------------------------------------------------------------------+\n",
      "| NVIDIA-SMI 570.86.15              Driver Version: 570.86.15      CUDA Version: 12.8     |\n",
      "|-----------------------------------------+------------------------+----------------------+\n",
      "| GPU  Name                 Persistence-M | Bus-Id          Disp.A | Volatile Uncorr. ECC |\n",
      "| Fan  Temp   Perf          Pwr:Usage/Cap |           Memory-Usage | GPU-Util  Compute M. |\n",
      "|                                         |                        |               MIG M. |\n",
      "|=========================================+========================+======================|\n",
      "|   0  NVIDIA A100-SXM4-80GB          On  |   00000000:04:00.0 Off |                  Off |\n",
      "| N/A   36C    P0             52W /  400W |       1MiB /  81920MiB |      0%      Default |\n",
      "|                                         |                        |             Disabled |\n",
      "+-----------------------------------------+------------------------+----------------------+\n",
      "                                                                                         \n",
      "+-----------------------------------------------------------------------------------------+\n",
      "| Processes:                                                                              |\n",
      "|  GPU   GI   CI              PID   Type   Process name                        GPU Memory |\n",
      "|        ID   ID                                                               Usage      |\n",
      "|=========================================================================================|\n",
      "|  No running processes found                                                             |\n",
      "+-----------------------------------------------------------------------------------------+\n"
     ]
    }
   ],
   "source": [
    "# prompt: Check cuda version, display cuda device (gpu)\n",
    "!nvcc --version\n",
    "!nvidia-smi\n"
   ]
  },
  {
   "cell_type": "markdown",
   "metadata": {
    "id": "3DjswJdtdkg2"
   },
   "source": [
    "# IsaacGym Install"
   ]
  },
  {
   "cell_type": "code",
   "execution_count": 4,
   "metadata": {
    "colab": {
     "base_uri": "https://localhost:8080/"
    },
    "executionInfo": {
     "elapsed": 88926,
     "status": "ok",
     "timestamp": 1715898996708,
     "user": {
      "displayName": "Charlie Turner",
      "userId": "08536662203952271116"
     },
     "user_tz": -600
    },
    "id": "iwejAnZSHfc2",
    "outputId": "dabd668e-e792-4761-96c4-6808db6791e4"
   },
   "outputs": [],
   "source": [
    "# \"\"\"\n",
    "# Install IsaacGym Python Package (local package on GDrive)\n",
    "# \"\"\"\n",
    "# from google.colab import drive\n",
    "# drive.mount('/content/drive')\n",
    "# try:\n",
    "#   import isaacgym\n",
    "# except:\n",
    "#   !source activate vid2player && pip install -q -e /content/drive/MyDrive/Colab/isaacgym/isaacgym/python"
   ]
  },
  {
   "cell_type": "code",
   "execution_count": 5,
   "metadata": {
    "colab": {
     "base_uri": "https://localhost:8080/"
    },
    "executionInfo": {
     "elapsed": 6268,
     "status": "ok",
     "timestamp": 1715899002956,
     "user": {
      "displayName": "Charlie Turner",
      "userId": "08536662203952271116"
     },
     "user_tz": -600
    },
    "id": "oQNOAc8_MXKK",
    "outputId": "e897c8fc-e359-4e86-d6dd-28d111f604cb"
   },
   "outputs": [],
   "source": [
    "# install gcc (and g++) version 9, and make 'gcc' use that version. Then, check the current version of gcc to check\n",
    "\n",
    "# !apt-get install gcc-9 g++-9\n",
    "# !update-alternatives --install /usr/bin/gcc gcc /usr/bin/gcc-9 900\n",
    "# !update-alternatives --install /usr/bin/g++ g++ /usr/bin/g++-9 900\n",
    "# !update-alternatives --config gcc\n",
    "# !gcc --version\n",
    "# !apt install -y python3.7-dev\n",
    "# !apt autoremove"
   ]
  },
  {
   "cell_type": "markdown",
   "metadata": {
    "id": "wM1WDIyAdeDG"
   },
   "source": [
    "# vid2player3d Install"
   ]
  },
  {
   "cell_type": "code",
   "execution_count": 6,
   "metadata": {
    "executionInfo": {
     "elapsed": 11,
     "status": "ok",
     "timestamp": 1715899002957,
     "user": {
      "displayName": "Charlie Turner",
      "userId": "08536662203952271116"
     },
     "user_tz": -600
    },
    "id": "LSqg5mKsdhRa"
   },
   "outputs": [],
   "source": [
    "# clone vid2player3d\n",
    "import os\n",
    "if not os.path.exists('./vid2player3d'):\n",
    "  !git clone https://github.com/nv-tlabs/vid2player3d.git \n",
    "\n",
    "# create a symlink cause its easier\n",
    "# !ln -s /content/drive/MyDrive/Colab/vid2player3d ./vid2player3d\n"
   ]
  },
  {
   "cell_type": "code",
   "execution_count": 7,
   "metadata": {
    "colab": {
     "base_uri": "https://localhost:8080/"
    },
    "executionInfo": {
     "elapsed": 77838,
     "status": "ok",
     "timestamp": 1715899080785,
     "user": {
      "displayName": "Charlie Turner",
      "userId": "08536662203952271116"
     },
     "user_tz": -600
    },
    "id": "CAZl8A5Et6p8",
    "outputId": "987e0e57-7d32-4e96-8e6d-5c256c99068f"
   },
   "outputs": [
    {
     "name": "stdout",
     "output_type": "stream",
     "text": [
      "Requirement already satisfied: rl-games==1.1.4 in /home/charlie/miniforge3/envs/rlgpu/lib/python3.8/site-packages (1.1.4)\n",
      "Requirement already satisfied: pyvista==0.34.2 in /home/charlie/miniforge3/envs/rlgpu/lib/python3.8/site-packages (0.34.2)\n",
      "Requirement already satisfied: pyglet==1.5.27 in /home/charlie/miniforge3/envs/rlgpu/lib/python3.8/site-packages (1.5.27)\n",
      "Requirement already satisfied: tqdm in /home/charlie/miniforge3/envs/rlgpu/lib/python3.8/site-packages (4.66.4)\n",
      "Requirement already satisfied: gym>=0.17.2 in /home/charlie/miniforge3/envs/rlgpu/lib/python3.8/site-packages (from rl-games==1.1.4) (0.26.2)\n",
      "Requirement already satisfied: torch>=1.7.0 in /home/charlie/miniforge3/envs/rlgpu/lib/python3.8/site-packages (from rl-games==1.1.4) (2.3.1)\n",
      "Requirement already satisfied: numpy>=1.16.0 in /home/charlie/miniforge3/envs/rlgpu/lib/python3.8/site-packages (from rl-games==1.1.4) (1.23.5)\n",
      "Requirement already satisfied: ray>=1.1.0 in /home/charlie/miniforge3/envs/rlgpu/lib/python3.8/site-packages (from rl-games==1.1.4) (2.10.0)\n",
      "Requirement already satisfied: tensorboard>=1.14.0 in /home/charlie/miniforge3/envs/rlgpu/lib/python3.8/site-packages (from rl-games==1.1.4) (2.14.0)\n",
      "Requirement already satisfied: tensorboardX>=1.6 in /home/charlie/miniforge3/envs/rlgpu/lib/python3.8/site-packages (from rl-games==1.1.4) (2.6.2.2)\n",
      "Requirement already satisfied: setproctitle in /home/charlie/miniforge3/envs/rlgpu/lib/python3.8/site-packages (from rl-games==1.1.4) (1.3.3)\n",
      "Requirement already satisfied: psutil in /home/charlie/miniforge3/envs/rlgpu/lib/python3.8/site-packages (from rl-games==1.1.4) (5.9.8)\n",
      "Requirement already satisfied: pyyaml in /home/charlie/miniforge3/envs/rlgpu/lib/python3.8/site-packages (from rl-games==1.1.4) (6.0.1)\n",
      "Requirement already satisfied: imageio in /home/charlie/miniforge3/envs/rlgpu/lib/python3.8/site-packages (from pyvista==0.34.2) (2.34.1)\n",
      "Requirement already satisfied: pillow in /home/charlie/miniforge3/envs/rlgpu/lib/python3.8/site-packages (from pyvista==0.34.2) (10.3.0)\n",
      "Requirement already satisfied: appdirs in /home/charlie/miniforge3/envs/rlgpu/lib/python3.8/site-packages (from pyvista==0.34.2) (1.4.4)\n",
      "Requirement already satisfied: scooby>=0.5.1 in /home/charlie/miniforge3/envs/rlgpu/lib/python3.8/site-packages (from pyvista==0.34.2) (0.10.0)\n",
      "Requirement already satisfied: vtk in /home/charlie/miniforge3/envs/rlgpu/lib/python3.8/site-packages (from pyvista==0.34.2) (9.1.0)\n",
      "Requirement already satisfied: cloudpickle>=1.2.0 in /home/charlie/miniforge3/envs/rlgpu/lib/python3.8/site-packages (from gym>=0.17.2->rl-games==1.1.4) (3.0.0)\n",
      "Requirement already satisfied: gym-notices>=0.0.4 in /home/charlie/miniforge3/envs/rlgpu/lib/python3.8/site-packages (from gym>=0.17.2->rl-games==1.1.4) (0.0.8)\n",
      "Requirement already satisfied: importlib-metadata>=4.8.0 in /home/charlie/miniforge3/envs/rlgpu/lib/python3.8/site-packages (from gym>=0.17.2->rl-games==1.1.4) (7.1.0)\n",
      "Requirement already satisfied: click>=7.0 in /home/charlie/miniforge3/envs/rlgpu/lib/python3.8/site-packages (from ray>=1.1.0->rl-games==1.1.4) (8.1.7)\n",
      "Requirement already satisfied: filelock in /home/charlie/miniforge3/envs/rlgpu/lib/python3.8/site-packages (from ray>=1.1.0->rl-games==1.1.4) (3.15.1)\n",
      "Requirement already satisfied: jsonschema in /home/charlie/miniforge3/envs/rlgpu/lib/python3.8/site-packages (from ray>=1.1.0->rl-games==1.1.4) (4.22.0)\n",
      "Requirement already satisfied: msgpack<2.0.0,>=1.0.0 in /home/charlie/miniforge3/envs/rlgpu/lib/python3.8/site-packages (from ray>=1.1.0->rl-games==1.1.4) (1.0.8)\n",
      "Requirement already satisfied: packaging in /home/charlie/miniforge3/envs/rlgpu/lib/python3.8/site-packages (from ray>=1.1.0->rl-games==1.1.4) (24.1)\n",
      "Requirement already satisfied: protobuf!=3.19.5,>=3.15.3 in /home/charlie/miniforge3/envs/rlgpu/lib/python3.8/site-packages (from ray>=1.1.0->rl-games==1.1.4) (5.27.1)\n",
      "Requirement already satisfied: aiosignal in /home/charlie/miniforge3/envs/rlgpu/lib/python3.8/site-packages (from ray>=1.1.0->rl-games==1.1.4) (1.3.1)\n",
      "Requirement already satisfied: frozenlist in /home/charlie/miniforge3/envs/rlgpu/lib/python3.8/site-packages (from ray>=1.1.0->rl-games==1.1.4) (1.4.1)\n",
      "Requirement already satisfied: requests in /home/charlie/miniforge3/envs/rlgpu/lib/python3.8/site-packages (from ray>=1.1.0->rl-games==1.1.4) (2.32.3)\n",
      "Requirement already satisfied: absl-py>=0.4 in /home/charlie/miniforge3/envs/rlgpu/lib/python3.8/site-packages (from tensorboard>=1.14.0->rl-games==1.1.4) (2.1.0)\n",
      "Requirement already satisfied: grpcio>=1.48.2 in /home/charlie/miniforge3/envs/rlgpu/lib/python3.8/site-packages (from tensorboard>=1.14.0->rl-games==1.1.4) (1.64.1)\n",
      "Requirement already satisfied: google-auth<3,>=1.6.3 in /home/charlie/miniforge3/envs/rlgpu/lib/python3.8/site-packages (from tensorboard>=1.14.0->rl-games==1.1.4) (2.30.0)\n",
      "Requirement already satisfied: google-auth-oauthlib<1.1,>=0.5 in /home/charlie/miniforge3/envs/rlgpu/lib/python3.8/site-packages (from tensorboard>=1.14.0->rl-games==1.1.4) (1.0.0)\n",
      "Requirement already satisfied: markdown>=2.6.8 in /home/charlie/miniforge3/envs/rlgpu/lib/python3.8/site-packages (from tensorboard>=1.14.0->rl-games==1.1.4) (3.6)\n",
      "Requirement already satisfied: setuptools>=41.0.0 in /home/charlie/miniforge3/envs/rlgpu/lib/python3.8/site-packages (from tensorboard>=1.14.0->rl-games==1.1.4) (70.0.0)\n",
      "Requirement already satisfied: tensorboard-data-server<0.8.0,>=0.7.0 in /home/charlie/miniforge3/envs/rlgpu/lib/python3.8/site-packages (from tensorboard>=1.14.0->rl-games==1.1.4) (0.7.2)\n",
      "Requirement already satisfied: werkzeug>=1.0.1 in /home/charlie/miniforge3/envs/rlgpu/lib/python3.8/site-packages (from tensorboard>=1.14.0->rl-games==1.1.4) (3.0.3)\n",
      "Requirement already satisfied: wheel>=0.26 in /home/charlie/miniforge3/envs/rlgpu/lib/python3.8/site-packages (from tensorboard>=1.14.0->rl-games==1.1.4) (0.43.0)\n",
      "Requirement already satisfied: typing-extensions>=4.8.0 in /home/charlie/miniforge3/envs/rlgpu/lib/python3.8/site-packages (from torch>=1.7.0->rl-games==1.1.4) (4.12.2)\n",
      "Requirement already satisfied: sympy in /home/charlie/miniforge3/envs/rlgpu/lib/python3.8/site-packages (from torch>=1.7.0->rl-games==1.1.4) (1.12.1)\n",
      "Requirement already satisfied: networkx in /home/charlie/miniforge3/envs/rlgpu/lib/python3.8/site-packages (from torch>=1.7.0->rl-games==1.1.4) (3.1)\n",
      "Requirement already satisfied: jinja2 in /home/charlie/miniforge3/envs/rlgpu/lib/python3.8/site-packages (from torch>=1.7.0->rl-games==1.1.4) (3.1.4)\n",
      "Requirement already satisfied: fsspec in /home/charlie/miniforge3/envs/rlgpu/lib/python3.8/site-packages (from torch>=1.7.0->rl-games==1.1.4) (2024.6.0)\n",
      "Requirement already satisfied: wslink>=1.0.4 in /home/charlie/miniforge3/envs/rlgpu/lib/python3.8/site-packages (from vtk->pyvista==0.34.2) (2.0.5)\n",
      "Requirement already satisfied: matplotlib>=2.0.0 in /home/charlie/miniforge3/envs/rlgpu/lib/python3.8/site-packages (from vtk->pyvista==0.34.2) (3.7.5)\n",
      "Requirement already satisfied: cachetools<6.0,>=2.0.0 in /home/charlie/miniforge3/envs/rlgpu/lib/python3.8/site-packages (from google-auth<3,>=1.6.3->tensorboard>=1.14.0->rl-games==1.1.4) (5.3.3)\n",
      "Requirement already satisfied: pyasn1-modules>=0.2.1 in /home/charlie/miniforge3/envs/rlgpu/lib/python3.8/site-packages (from google-auth<3,>=1.6.3->tensorboard>=1.14.0->rl-games==1.1.4) (0.4.0)\n",
      "Requirement already satisfied: rsa<5,>=3.1.4 in /home/charlie/miniforge3/envs/rlgpu/lib/python3.8/site-packages (from google-auth<3,>=1.6.3->tensorboard>=1.14.0->rl-games==1.1.4) (4.9)\n",
      "Requirement already satisfied: requests-oauthlib>=0.7.0 in /home/charlie/miniforge3/envs/rlgpu/lib/python3.8/site-packages (from google-auth-oauthlib<1.1,>=0.5->tensorboard>=1.14.0->rl-games==1.1.4) (2.0.0)\n",
      "Requirement already satisfied: zipp>=0.5 in /home/charlie/miniforge3/envs/rlgpu/lib/python3.8/site-packages (from importlib-metadata>=4.8.0->gym>=0.17.2->rl-games==1.1.4) (3.19.2)\n",
      "Requirement already satisfied: contourpy>=1.0.1 in /home/charlie/miniforge3/envs/rlgpu/lib/python3.8/site-packages (from matplotlib>=2.0.0->vtk->pyvista==0.34.2) (1.1.1)\n",
      "Requirement already satisfied: cycler>=0.10 in /home/charlie/miniforge3/envs/rlgpu/lib/python3.8/site-packages (from matplotlib>=2.0.0->vtk->pyvista==0.34.2) (0.12.1)\n",
      "Requirement already satisfied: fonttools>=4.22.0 in /home/charlie/miniforge3/envs/rlgpu/lib/python3.8/site-packages (from matplotlib>=2.0.0->vtk->pyvista==0.34.2) (4.53.0)\n",
      "Requirement already satisfied: kiwisolver>=1.0.1 in /home/charlie/miniforge3/envs/rlgpu/lib/python3.8/site-packages (from matplotlib>=2.0.0->vtk->pyvista==0.34.2) (1.4.5)\n",
      "Requirement already satisfied: pyparsing>=2.3.1 in /home/charlie/miniforge3/envs/rlgpu/lib/python3.8/site-packages (from matplotlib>=2.0.0->vtk->pyvista==0.34.2) (3.1.2)\n",
      "Requirement already satisfied: python-dateutil>=2.7 in /home/charlie/miniforge3/envs/rlgpu/lib/python3.8/site-packages (from matplotlib>=2.0.0->vtk->pyvista==0.34.2) (2.9.0)\n",
      "Requirement already satisfied: importlib-resources>=3.2.0 in /home/charlie/miniforge3/envs/rlgpu/lib/python3.8/site-packages (from matplotlib>=2.0.0->vtk->pyvista==0.34.2) (6.4.0)\n",
      "Requirement already satisfied: charset-normalizer<4,>=2 in /home/charlie/miniforge3/envs/rlgpu/lib/python3.8/site-packages (from requests->ray>=1.1.0->rl-games==1.1.4) (3.3.2)\n",
      "Requirement already satisfied: idna<4,>=2.5 in /home/charlie/miniforge3/envs/rlgpu/lib/python3.8/site-packages (from requests->ray>=1.1.0->rl-games==1.1.4) (3.7)\n",
      "Requirement already satisfied: urllib3<3,>=1.21.1 in /home/charlie/miniforge3/envs/rlgpu/lib/python3.8/site-packages (from requests->ray>=1.1.0->rl-games==1.1.4) (2.2.2)\n",
      "Requirement already satisfied: certifi>=2017.4.17 in /home/charlie/miniforge3/envs/rlgpu/lib/python3.8/site-packages (from requests->ray>=1.1.0->rl-games==1.1.4) (2024.6.2)\n",
      "Requirement already satisfied: MarkupSafe>=2.1.1 in /home/charlie/miniforge3/envs/rlgpu/lib/python3.8/site-packages (from werkzeug>=1.0.1->tensorboard>=1.14.0->rl-games==1.1.4) (2.1.5)\n",
      "Requirement already satisfied: aiohttp<4 in /home/charlie/miniforge3/envs/rlgpu/lib/python3.8/site-packages (from wslink>=1.0.4->vtk->pyvista==0.34.2) (3.9.5)\n",
      "Requirement already satisfied: attrs>=22.2.0 in /home/charlie/miniforge3/envs/rlgpu/lib/python3.8/site-packages (from jsonschema->ray>=1.1.0->rl-games==1.1.4) (23.2.0)\n",
      "Requirement already satisfied: jsonschema-specifications>=2023.03.6 in /home/charlie/miniforge3/envs/rlgpu/lib/python3.8/site-packages (from jsonschema->ray>=1.1.0->rl-games==1.1.4) (2023.12.1)\n",
      "Requirement already satisfied: pkgutil-resolve-name>=1.3.10 in /home/charlie/miniforge3/envs/rlgpu/lib/python3.8/site-packages (from jsonschema->ray>=1.1.0->rl-games==1.1.4) (1.3.10)\n",
      "Requirement already satisfied: referencing>=0.28.4 in /home/charlie/miniforge3/envs/rlgpu/lib/python3.8/site-packages (from jsonschema->ray>=1.1.0->rl-games==1.1.4) (0.35.1)\n",
      "Requirement already satisfied: rpds-py>=0.7.1 in /home/charlie/miniforge3/envs/rlgpu/lib/python3.8/site-packages (from jsonschema->ray>=1.1.0->rl-games==1.1.4) (0.18.1)\n",
      "Requirement already satisfied: mpmath<1.4.0,>=1.1.0 in /home/charlie/miniforge3/envs/rlgpu/lib/python3.8/site-packages (from sympy->torch>=1.7.0->rl-games==1.1.4) (1.3.0)\n",
      "Requirement already satisfied: multidict<7.0,>=4.5 in /home/charlie/miniforge3/envs/rlgpu/lib/python3.8/site-packages (from aiohttp<4->wslink>=1.0.4->vtk->pyvista==0.34.2) (6.0.5)\n",
      "Requirement already satisfied: yarl<2.0,>=1.0 in /home/charlie/miniforge3/envs/rlgpu/lib/python3.8/site-packages (from aiohttp<4->wslink>=1.0.4->vtk->pyvista==0.34.2) (1.9.4)\n",
      "Requirement already satisfied: async-timeout<5.0,>=4.0 in /home/charlie/miniforge3/envs/rlgpu/lib/python3.8/site-packages (from aiohttp<4->wslink>=1.0.4->vtk->pyvista==0.34.2) (4.0.3)\n",
      "Requirement already satisfied: pyasn1<0.7.0,>=0.4.6 in /home/charlie/miniforge3/envs/rlgpu/lib/python3.8/site-packages (from pyasn1-modules>=0.2.1->google-auth<3,>=1.6.3->tensorboard>=1.14.0->rl-games==1.1.4) (0.6.0)\n",
      "Requirement already satisfied: six>=1.5 in /home/charlie/miniforge3/envs/rlgpu/lib/python3.8/site-packages (from python-dateutil>=2.7->matplotlib>=2.0.0->vtk->pyvista==0.34.2) (1.16.0)\n",
      "Requirement already satisfied: oauthlib>=3.0.0 in /home/charlie/miniforge3/envs/rlgpu/lib/python3.8/site-packages (from requests-oauthlib>=0.7.0->google-auth-oauthlib<1.1,>=0.5->tensorboard>=1.14.0->rl-games==1.1.4) (3.2.2)\n",
      "\u001b[33mWARNING: Retrying (Retry(total=4, connect=None, read=None, redirect=None, status=None)) after connection broken by 'ProtocolError('Connection aborted.', ConnectionResetError(104, 'Connection reset by peer'))': /simple/vtk/\u001b[0m\u001b[33m\n",
      "\u001b[0m\u001b[33mWARNING: Retrying (Retry(total=3, connect=None, read=None, redirect=None, status=None)) after connection broken by 'ProtocolError('Connection aborted.', ConnectionResetError(104, 'Connection reset by peer'))': /simple/vtk/\u001b[0m\u001b[33m\n",
      "\u001b[0m\u001b[33mWARNING: Retrying (Retry(total=2, connect=None, read=None, redirect=None, status=None)) after connection broken by 'ProtocolError('Connection aborted.', ConnectionResetError(104, 'Connection reset by peer'))': /simple/vtk/\u001b[0m\u001b[33m\n",
      "\u001b[0m\u001b[33mWARNING: Retrying (Retry(total=1, connect=None, read=None, redirect=None, status=None)) after connection broken by 'ProtocolError('Connection aborted.', ConnectionResetError(104, 'Connection reset by peer'))': /simple/vtk/\u001b[0m\u001b[33m\n",
      "\u001b[0m\u001b[33mWARNING: Retrying (Retry(total=0, connect=None, read=None, redirect=None, status=None)) after connection broken by 'ProtocolError('Connection aborted.', ConnectionResetError(104, 'Connection reset by peer'))': /simple/vtk/\u001b[0m\u001b[33m\n",
      "\u001b[0m\u001b[31mERROR: Could not find a version that satisfies the requirement vtk==9.1.0 (from versions: none)\u001b[0m\u001b[31m\n",
      "\u001b[0m\u001b[31mERROR: No matching distribution found for vtk==9.1.0\u001b[0m\u001b[31m\n",
      "\u001b[0m\n",
      "\n",
      "WARNING: The --force flag will be removed in a future conda release.\n",
      "         See 'conda install --help' for details about the --force-reinstall\n",
      "         and --clobber flags.\n",
      "\n",
      "\n",
      "Retrying (Retry(total=2, connect=None, read=None, redirect=None, status=None)) after connection broken by 'ConnectionResetError(104, 'Connection reset by peer')': /nvidia/noarch/repodata.json\n",
      "\n",
      "Retrying (Retry(total=2, connect=None, read=None, redirect=None, status=None)) after connection broken by 'ConnectionResetError(104, 'Connection reset by peer')': /pytorch/noarch/repodata.json\n",
      "\n",
      "Channels:\n",
      " - conda-forge\n",
      "Platform: linux-64\n",
      "Collecting package metadata (repodata.json): | Retrying (Retry(total=2, connect=None, read=None, redirect=None, status=None)) after connection broken by 'ConnectionResetError(104, 'Connection reset by peer')': /conda-forge/noarch/repodata.json.zst\n",
      "\n",
      "/ Retrying (Retry(total=1, connect=None, read=None, redirect=None, status=None)) after connection broken by 'ConnectionResetError(104, 'Connection reset by peer')': /conda-forge/noarch/repodata.json.zst\n",
      "\n",
      "- Retrying (Retry(total=0, connect=None, read=None, redirect=None, status=None)) after connection broken by 'ConnectionResetError(104, 'Connection reset by peer')': /conda-forge/noarch/repodata.json.zst\n",
      "\n",
      "\\ Retrying (Retry(total=2, connect=None, read=None, redirect=None, status=None)) after connection broken by 'ReadTimeoutError(\"HTTPSConnectionPool(host='conda.anaconda.org', port=443): Read timed out. (read timeout=9.15)\")': /conda-forge/linux-64/repodata.json.zst\n",
      "\n",
      "| Retrying (Retry(total=1, connect=None, read=None, redirect=None, status=None)) after connection broken by 'ConnectionResetError(104, 'Connection reset by peer')': /conda-forge/linux-64/repodata.json.zst\n",
      "\n",
      "/ Retrying (Retry(total=0, connect=None, read=None, redirect=None, status=None)) after connection broken by 'ConnectionResetError(104, 'Connection reset by peer')': /conda-forge/linux-64/repodata.json.zst\n",
      "\n",
      "failed\n",
      "\n",
      "CondaHTTPError: HTTP 000 CONNECTION FAILED for url <https://conda.anaconda.org/conda-forge/linux-64/repodata.json>\n",
      "Elapsed: -\n",
      "\n",
      "An HTTP error occurred when trying to retrieve this URL.\n",
      "HTTP errors are often intermittent, and a simple retry will get you on your way.\n",
      "'https//conda.anaconda.org/conda-forge/linux-64'\n",
      "\n",
      "\n"
     ]
    }
   ],
   "source": [
    "# install python dependencies\n",
    "# !source activate vid2player && bash ./vid2player3d/install.sh\n",
    "!bash ./vid2player3d/install.sh"
   ]
  },
  {
   "cell_type": "code",
   "execution_count": 8,
   "metadata": {
    "colab": {
     "base_uri": "https://localhost:8080/"
    },
    "executionInfo": {
     "elapsed": 948,
     "status": "ok",
     "timestamp": 1715899081719,
     "user": {
      "displayName": "Charlie Turner",
      "userId": "08536662203952271116"
     },
     "user_tz": -600
    },
    "id": "zDaW0-pUqzAI",
    "outputId": "920c7273-83d0-42a6-bbd7-9530aa7a6b33"
   },
   "outputs": [],
   "source": [
    "import os\n",
    "if not os.path.exists(\"~/.mujoco\"):\n",
    "  !wget https://mujoco.org/download/mujoco210-linux-x86_64.tar.gz\n",
    "!mkdir -p ~/.mujoco\n",
    "!tar -xf mujoco210-linux-x86_64.tar.gz -C ~/.mujoco\n"
   ]
  },
  {
   "cell_type": "markdown",
   "metadata": {
    "id": "nOBhSdo076qa"
   },
   "source": [
    "# Steps For Tennis Sim:\n",
    "\n",
    "1. Video Annotation\n",
    "\n",
    "  a) All Third Party tools\n",
    "\n",
    "2. Train low-level policy\n",
    "  "
   ]
  },
  {
   "cell_type": "code",
   "execution_count": 9,
   "metadata": {
    "executionInfo": {
     "elapsed": 8,
     "status": "ok",
     "timestamp": 1715899081719,
     "user": {
      "displayName": "Charlie Turner",
      "userId": "08536662203952271116"
     },
     "user_tz": -600
    },
    "id": "isWWDjBUSsyl"
   },
   "outputs": [],
   "source": [
    "\n",
    "import os\n",
    "import subprocess\n",
    "\n",
    "# Set the LD_LIBRARY_PATH environment variable\n",
    "os.environ[\"LD_LIBRARY_PATH\"] = \"/home/charlie/.mujoco/mujoco210/bin\" + \":\" + os.environ.get(\"LD_LIBRARY_PATH\", \"\")"
   ]
  },
  {
   "cell_type": "code",
   "execution_count": null,
   "metadata": {
    "colab": {
     "base_uri": "https://localhost:8080/"
    },
    "executionInfo": {
     "elapsed": 9028,
     "status": "ok",
     "timestamp": 1715899226551,
     "user": {
      "displayName": "Charlie Turner",
      "userId": "08536662203952271116"
     },
     "user_tz": -600
    },
    "id": "N--I5NKdpiRH",
    "outputId": "39a284c1-2f60-4330-c005-c1f990f1c6c6"
   },
   "outputs": [
    {
     "name": "stdout",
     "output_type": "stream",
     "text": [
      "Requirement already satisfied: lxml in /home/charlie/miniforge3/envs/rlgpu/lib/python3.8/site-packages (5.2.2)\n",
      "Requirement already satisfied: joblib in /home/charlie/miniforge3/envs/rlgpu/lib/python3.8/site-packages (1.4.2)\n",
      "Requirement already satisfied: numpy-stl in /home/charlie/miniforge3/envs/rlgpu/lib/python3.8/site-packages (3.1.1)\n",
      "Requirement already satisfied: numpy in /home/charlie/miniforge3/envs/rlgpu/lib/python3.8/site-packages (from numpy-stl) (1.23.5)\n",
      "Requirement already satisfied: python-utils>=3.4.5 in /home/charlie/miniforge3/envs/rlgpu/lib/python3.8/site-packages (from numpy-stl) (3.8.2)\n",
      "Requirement already satisfied: typing-extensions>3.10.0.2 in /home/charlie/miniforge3/envs/rlgpu/lib/python3.8/site-packages (from python-utils>=3.4.5->numpy-stl) (4.12.2)\n",
      "Requirement already satisfied: cython<3 in /home/charlie/miniforge3/envs/rlgpu/lib/python3.8/site-packages (0.29.37)\n",
      "Requirement already satisfied: mujoco-py<2.2,>=2.1 in /home/charlie/miniforge3/envs/rlgpu/lib/python3.8/site-packages (2.1.2.14)\n",
      "Requirement already satisfied: glfw>=1.4.0 in /home/charlie/miniforge3/envs/rlgpu/lib/python3.8/site-packages (from mujoco-py<2.2,>=2.1) (2.7.0)\n",
      "Requirement already satisfied: numpy>=1.11 in /home/charlie/miniforge3/envs/rlgpu/lib/python3.8/site-packages (from mujoco-py<2.2,>=2.1) (1.23.5)\n",
      "Requirement already satisfied: imageio>=2.1.2 in /home/charlie/miniforge3/envs/rlgpu/lib/python3.8/site-packages (from mujoco-py<2.2,>=2.1) (2.34.1)\n",
      "Requirement already satisfied: cffi>=1.10 in /home/charlie/miniforge3/envs/rlgpu/lib/python3.8/site-packages (from mujoco-py<2.2,>=2.1) (1.16.0)\n",
      "Requirement already satisfied: fasteners~=0.15 in /home/charlie/miniforge3/envs/rlgpu/lib/python3.8/site-packages (from mujoco-py<2.2,>=2.1) (0.19)\n",
      "Requirement already satisfied: pycparser in /home/charlie/miniforge3/envs/rlgpu/lib/python3.8/site-packages (from cffi>=1.10->mujoco-py<2.2,>=2.1) (2.22)\n",
      "Requirement already satisfied: pillow>=8.3.2 in /home/charlie/miniforge3/envs/rlgpu/lib/python3.8/site-packages (from imageio>=2.1.2->mujoco-py<2.2,>=2.1) (10.3.0)\n",
      "Requirement already satisfied: smplx in /home/charlie/miniforge3/envs/rlgpu/lib/python3.8/site-packages (0.1.28)\n",
      "Requirement already satisfied: numpy>=1.16.2 in /home/charlie/miniforge3/envs/rlgpu/lib/python3.8/site-packages (from smplx) (1.23.5)\n",
      "Requirement already satisfied: torch>=1.0.1.post2 in /home/charlie/miniforge3/envs/rlgpu/lib/python3.8/site-packages (from smplx) (2.3.1)\n",
      "Requirement already satisfied: filelock in /home/charlie/miniforge3/envs/rlgpu/lib/python3.8/site-packages (from torch>=1.0.1.post2->smplx) (3.15.1)\n",
      "Requirement already satisfied: typing-extensions>=4.8.0 in /home/charlie/miniforge3/envs/rlgpu/lib/python3.8/site-packages (from torch>=1.0.1.post2->smplx) (4.12.2)\n",
      "Requirement already satisfied: sympy in /home/charlie/miniforge3/envs/rlgpu/lib/python3.8/site-packages (from torch>=1.0.1.post2->smplx) (1.12.1)\n",
      "Requirement already satisfied: networkx in /home/charlie/miniforge3/envs/rlgpu/lib/python3.8/site-packages (from torch>=1.0.1.post2->smplx) (3.1)\n",
      "Requirement already satisfied: jinja2 in /home/charlie/miniforge3/envs/rlgpu/lib/python3.8/site-packages (from torch>=1.0.1.post2->smplx) (3.1.4)\n",
      "Requirement already satisfied: fsspec in /home/charlie/miniforge3/envs/rlgpu/lib/python3.8/site-packages (from torch>=1.0.1.post2->smplx) (2024.6.0)\n",
      "Requirement already satisfied: MarkupSafe>=2.0 in /home/charlie/miniforge3/envs/rlgpu/lib/python3.8/site-packages (from jinja2->torch>=1.0.1.post2->smplx) (2.1.5)\n",
      "Requirement already satisfied: mpmath<1.4.0,>=1.1.0 in /home/charlie/miniforge3/envs/rlgpu/lib/python3.8/site-packages (from sympy->torch>=1.0.1.post2->smplx) (1.3.0)\n"
     ]
    }
   ],
   "source": [
    "# Additional python lib\n",
    "!pip install lxml joblib numpy-stl\n",
    "\n",
    "# Install mujoco for visualization\n",
    "!pip install -U  'mujoco-py<2.2,>=2.1'\n",
    "\n",
    "# run in shell: sudo apt install patchelf\n",
    "\n",
    "!pip install smplx"
   ]
  },
  {
   "cell_type": "code",
   "execution_count": null,
   "metadata": {
    "executionInfo": {
     "elapsed": 19,
     "status": "ok",
     "timestamp": 1715899097908,
     "user": {
      "displayName": "Charlie Turner",
      "userId": "08536662203952271116"
     },
     "user_tz": -600
    },
    "id": "bZauQLjhFCxU"
   },
   "outputs": [],
   "source": [
    "# prompt: unzip from vid2player3d/data/amass/ACAAD.tar.bz2 to vid2player3d/data/amass/ACAAD\n",
    "# !tar -xjf ./vid2player3d/vid2player/data/amass/ACCAD.tar.bz2 -C vid2player3d/vid2player/data/amass/\n"
   ]
  },
  {
   "cell_type": "code",
   "execution_count": 74,
   "metadata": {
    "executionInfo": {
     "elapsed": 18,
     "status": "ok",
     "timestamp": 1715899097908,
     "user": {
      "displayName": "Charlie Turner",
      "userId": "08536662203952271116"
     },
     "user_tz": -600
    },
    "id": "rXbM4eoVm0eB"
   },
   "outputs": [
    {
     "name": "stdout",
     "output_type": "stream",
     "text": [
      "[Errno 2] No such file or directory: 'vid2player3d'\n",
      "/home/charlie/Documents/ATPIL/Training/vid2player3d\n",
      "(360, 63)\n",
      "(360, 66)\n",
      "(148, 72)\n",
      "[[-3.05165478  3.11115279  0.03096239 ... -0.13668728 -0.05462345\n",
      "   0.15152425]\n",
      " [-3.04005928  3.09963339  0.01545797 ... -0.13821409 -0.06422285\n",
      "   0.11499881]\n",
      " [-3.07186226  3.07467839  0.09102398 ... -0.13170603 -0.02257139\n",
      "   0.10587701]\n",
      " ...\n",
      " [-3.0421012   3.0784481   0.2440914  ... -0.13173811 -0.01906613\n",
      "  -0.04170593]\n",
      " [-3.02789083  3.1111305   0.25658103 ... -0.13623233 -0.11097222\n",
      "   0.01017017]\n",
      " [-2.99238213  3.13313134  0.24946242 ... -0.13843536 -0.06963674\n",
      "  -0.01716262]]\n",
      "Pred Beta STD: [0.08673272 0.11069424 0.10427027 0.1492436  0.09903067 0.06592883\n",
      " 0.06319949 0.03521836 0.09282427 0.05347111]\n",
      "(318, 72)\n",
      "[[ 0.28808022  3.34872615 -2.98564004 ... -0.11708599  0.16261074\n",
      "   0.19693258]\n",
      " [ 0.24562355  3.32184609 -2.987264   ... -0.11679365  0.15049285\n",
      "   0.12618882]\n",
      " [ 0.24797099  3.33455083 -2.97587636 ... -0.11508572  0.1784753\n",
      "   0.1734452 ]\n",
      " ...\n",
      " [-3.04295739  3.07672292  0.24106217 ... -0.13169747 -0.01846448\n",
      "  -0.04300415]\n",
      " [-3.02781477  3.11095314  0.25626272 ... -0.13421376 -0.07359795\n",
      "  -0.03593528]\n",
      " [-2.99230809  3.13314946  0.24933299 ... -0.13862122 -0.07312986\n",
      "  -0.01308435]]\n",
      "Pred Beta STD: [0.10027246 0.11167972 0.15629394 0.21825294 0.10219178 0.06764886\n",
      " 0.08730869 0.04303967 0.10430258 0.04494675]\n",
      "Saved 2 motions\n"
     ]
    }
   ],
   "source": [
    "%cd vid2player3d\n",
    "import os\n",
    "import joblib\n",
    "import numpy as np\n",
    "from scipy.spatial.transform import Rotation as R\n",
    "\n",
    "root_orient = 0\n",
    "\n",
    "def process_files(amass_dir):\n",
    "  \"\"\"\n",
    "  Walks through the amass directory and processes npz files.\n",
    "  \"\"\"\n",
    "  result = {}\n",
    "  for root, _, files in os.walk(amass_dir):\n",
    "    filenames = [os.path.join(root, f) for f in files]\n",
    "    for filename in filenames:\n",
    "      if filename.endswith('.npz'):\n",
    "        filepath = filename\n",
    "        with np.load(filepath) as data:\n",
    "          if all(key in data.keys() for key in ['trans', 'betas', 'gender', 'root_orient', 'pose_body']):\n",
    "            global root_orient\n",
    "            root_orient = data['root_orient']\n",
    "            print(data['pose_body'].shape)\n",
    "            pose_aa = np.concatenate([data['root_orient'], data['pose_body']], axis=-1)\n",
    "            print(pose_aa.shape)\n",
    "            return\n",
    "            result[filename] = {\n",
    "              'trans': data['trans'],\n",
    "              'beta': data['betas'],\n",
    "              'gender': data['gender'],\n",
    "              'pose_aa': pose_aa\n",
    "            }\n",
    "      if filename.endswith('.pk'):\n",
    "        filepath = filename\n",
    "        with open(filepath, 'rb') as f:\n",
    "          data = joblib.load(f)\n",
    "          if all(key in data.keys() for key in ['transl', 'pred_betas', 'pred_thetas']):\n",
    "            print(data.keys())\n",
    "            poses = np.array([p.reshape(-1, 3, 3) for p in data['pred_thetas']])\n",
    "            poses_rotvec = []\n",
    "            for pose in poses:\n",
    "              pose_rotvec = np.array([R.from_matrix(p).as_rotvec() for p in pose]).reshape(-1)\n",
    "              poses_rotvec.append(pose_rotvec)\n",
    "            poses_rotvec = np.array(poses_rotvec)\n",
    "\n",
    "            mask = poses_rotvec.copy()\n",
    "            mask[:, 3:] = 0\n",
    "            mask[:, :3] = [0, np.radians(180), 0]\n",
    "            poses_rotvec = poses_rotvec + mask\n",
    "\n",
    "            betas = np.mean(data['pred_betas'], axis=0)\n",
    "            result[filename] = {\n",
    "              'trans': data['transl'],\n",
    "              'beta': betas,\n",
    "              'gender': 'male',\n",
    "              'pose_aa': poses_rotvec\n",
    "            }\n",
    "  # Save the result as a pkl file\n",
    "  joblib.dump(result, os.path.join(amass_dir, '..', 'processed_data.pkl'))\n",
    "  print(\"Saved\", len(result), \"motions\")\n",
    "\n",
    "# Call the function with the amass directory path\n",
    "process_files('./data/amass/ACCAD')\n",
    "process_files('./data/tennis/sinner')\n",
    "\n",
    "\n"
   ]
  },
  {
   "cell_type": "code",
   "execution_count": 75,
   "metadata": {
    "executionInfo": {
     "elapsed": 17,
     "status": "ok",
     "timestamp": 1715899097908,
     "user": {
      "displayName": "Charlie Turner",
      "userId": "08536662203952271116"
     },
     "user_tz": -600
    },
    "id": "XmwLz3KdL9hJ"
   },
   "outputs": [
    {
     "name": "stdout",
     "output_type": "stream",
     "text": [
      "/home/charlie/Documents/ATPIL/Training/vid2player3d\n",
      "Importing module 'gym_38' (/home/charlie/Downloads/isaacgym/python/isaacgym/_bindings/linux-x86_64/gym_38.so)\n",
      "Setting GYM_USD_PLUG_INFO_PATH to /home/charlie/Downloads/isaacgym/python/isaacgym/_bindings/linux-x86_64/usd/plugInfo.json\n",
      "2024-06-21 11:36:14,081 - INFO - logger - logger initialized\n",
      "MOVING MOTION DATA TO GPU, USING CACHE: True\n",
      "AMASS data has 2 unique body shapes!\n",
      "100%|█████████████████████████████████████████████| 1/1 [00:00<00:00,  1.16it/s]\n"
     ]
    }
   ],
   "source": [
    "# Convert into a format we can deal with\n",
    "# Also had to change a bunch of poselib to poselib.poselib imports, change back after this apparently\n",
    "!pwd\n",
    "# !python uhc/utils/convert_amass_isaac.py --amass_data ./data/amass/processed_data.pkl --out_dir ./data/motion_lib/amass\n",
    "!python uhc/utils/convert_amass_isaac.py --amass_data ./data/tennis/processed_data.pkl --num_motion_libs 1 --out_dir ./data/motion_lib/tennis"
   ]
  },
  {
   "cell_type": "code",
   "execution_count": 76,
   "metadata": {},
   "outputs": [
    {
     "name": "stdout",
     "output_type": "stream",
     "text": [
      "/home/charlie/Documents/ATPIL/Training/vid2player3d\n"
     ]
    },
    {
     "name": "stdout",
     "output_type": "stream",
     "text": [
      "Importing module 'gym_38' (/home/charlie/Downloads/isaacgym/python/isaacgym/_bindings/linux-x86_64/gym_38.so)\n",
      "Setting GYM_USD_PLUG_INFO_PATH to /home/charlie/Downloads/isaacgym/python/isaacgym/_bindings/linux-x86_64/usd/plugInfo.json\n",
      "PyTorch version 2.3.1\n",
      "Device count 1\n",
      "/home/charlie/Downloads/isaacgym/python/isaacgym/_bindings/src/gymtorch\n",
      "Using /home/charlie/.cache/torch_extensions/py38_cu121 as PyTorch extensions root...\n",
      "Emitting ninja build file /home/charlie/.cache/torch_extensions/py38_cu121/gymtorch/build.ninja...\n",
      "Building extension module gymtorch...\n",
      "Allowing ninja to set a default number of workers... (overridable by setting the environment variable MAX_JOBS=N)\n",
      "ninja: no work to do.\n",
      "Loading extension module gymtorch...\n",
      "Setting seed: 7\n",
      "Started to play\n",
      "2024-06-21 11:36:21,819 - INFO - logger - logger initialized\n",
      "MOVING MOTION DATA TO GPU, USING CACHE: True\n",
      "Loading motion file to cuda:0: data/motion_lib/tennis/mlib_part_00000.pth\n",
      "Not connected to PVD\n",
      "+++ Using GPU PhysX\n",
      "Physics Engine: PhysX\n",
      "Physics Device: cuda:0\n",
      "GPU Pipeline: enabled\n",
      "sampled motion ids: tensor([1, 0, 1,  ..., 1, 1, 1], device='cuda:0')\n",
      "100%|█████████████████████████████████████████████| 2/2 [00:00<00:00,  3.95it/s]\n",
      "Finished generating 2 humanoids in 0.510s!\n",
      "Humanoid weights: [75.42,74.94,75.42,75.42,75.42,74.94,75.42,74.94,75.42,75.42,75.42,75.42,75.42,74.94,74.94,75.42,75.42,74.94,74.94,74.94,74.94,75.42,75.42,74.94,74.94,74.94,74.94,75.42,75.42,74.94,75.42,75.42]\n",
      "Creating window glfw\n",
      "Finished loading 4096 humanoids in 1.868s!\n",
      "/home/charlie/miniforge3/envs/rlgpu/lib/python3.8/site-packages/gym/spaces/box.py:127: UserWarning: \u001b[33mWARN: Box bound precision lowered by casting to float32\u001b[0m\n",
      "  logger.warn(f\"Box bound precision lowered by casting to {self.dtype}\")\n",
      "RL device:  cuda:0\n",
      "4096\n",
      "75\n",
      "461\n",
      "0\n",
      "{'observation_space': Box(-inf, inf, (461,), float32), 'action_space': Box(-1.0, 1.0, (75,), float32), 'agents': 1, 'value_size': 1}\n",
      "build mlp: 734\n",
      "build mlp: 734\n",
      "sigma\n",
      "actor_mlp.0.weight\n",
      "actor_mlp.0.bias\n",
      "actor_mlp.2.weight\n",
      "actor_mlp.2.bias\n",
      "actor_mlp.4.weight\n",
      "actor_mlp.4.bias\n",
      "critic_mlp.0.weight\n",
      "critic_mlp.0.bias\n",
      "critic_mlp.2.weight\n",
      "critic_mlp.2.bias\n",
      "critic_mlp.4.weight\n",
      "critic_mlp.4.bias\n",
      "value.weight\n",
      "value.bias\n",
      "mu.weight\n",
      "mu.bias\n"
     ]
    }
   ],
   "source": [
    "%cd /home/charlie/Documents/ATPIL/Training/vid2player3d\n",
    "!python embodied_pose/run.py --cfg tennis_im --rl_device cuda:0 --test --checkpoint latest --test_motion_file data/motion_lib/tennis/mlib_part_00000.pth"
   ]
  },
  {
   "cell_type": "code",
   "execution_count": 18,
   "metadata": {
    "colab": {
     "base_uri": "https://localhost:8080/"
    },
    "executionInfo": {
     "elapsed": 18,
     "status": "ok",
     "timestamp": 1715899097909,
     "user": {
      "displayName": "Charlie Turner",
      "userId": "08536662203952271116"
     },
     "user_tz": -600
    },
    "id": "VTmAV9FydREA",
    "outputId": "96410c91-b4f7-435c-c054-197e26934e43"
   },
   "outputs": [],
   "source": [
    "# !source activate vid2player && which python\n",
    "import os\n",
    "os.environ[\"LD_LIBRARY_PATH\"] = \"/home/charlie/miniforge3/envs/rlgpu/lib\" + \":\" + \"/home/charlie/.mujoco/mujoco210/bin\" + \":\" + \"/usr/lib/nvidia\"\n",
    "os.environ[\"LD_PRELOAD\"] = \"/usr/lib/x86_64-linux-gnu/libGLEW.so\""
   ]
  },
  {
   "cell_type": "code",
   "execution_count": 35,
   "metadata": {
    "colab": {
     "base_uri": "https://localhost:8080/"
    },
    "id": "x90gdA9Duh98",
    "outputId": "e265ce0e-3fd5-4b58-fa4f-c86bd225bc68"
   },
   "outputs": [
    {
     "name": "stdout",
     "output_type": "stream",
     "text": [
      "[Errno 2] No such file or directory: 'vid2player3d'\n",
      "/home/charlie/Documents/ATPIL/Training/vid2player3d\n",
      "Importing module 'gym_38' (/home/charlie/Downloads/isaacgym/python/isaacgym/_bindings/linux-x86_64/gym_38.so)\n",
      "Setting GYM_USD_PLUG_INFO_PATH to /home/charlie/Downloads/isaacgym/python/isaacgym/_bindings/linux-x86_64/usd/plugInfo.json\n",
      "PyTorch version 2.3.1\n",
      "Device count 1\n",
      "/home/charlie/Downloads/isaacgym/python/isaacgym/_bindings/src/gymtorch\n",
      "Using /home/charlie/.cache/torch_extensions/py38_cu121 as PyTorch extensions root...\n",
      "Emitting ninja build file /home/charlie/.cache/torch_extensions/py38_cu121/gymtorch/build.ninja...\n",
      "Building extension module gymtorch...\n",
      "Allowing ninja to set a default number of workers... (overridable by setting the environment variable MAX_JOBS=N)\n",
      "ninja: no work to do.\n",
      "Loading extension module gymtorch...\n",
      "Setting seed: 7\n",
      "Started to play\n",
      "2024-06-20 14:39:21,669 - INFO - logger - logger initialized\n",
      "MOVING MOTION DATA TO GPU, USING CACHE: True\n",
      "Loading motion files to cuda:0:\n",
      "data/motion_lib/amass/mlib_part_00000.pth\n",
      "data/motion_lib/amass/mlib_part_00001.pth\n",
      "data/motion_lib/amass/mlib_part_00002.pth\n",
      "data/motion_lib/amass/mlib_part_00003.pth\n",
      "data/motion_lib/amass/mlib_part_00004.pth\n",
      "data/motion_lib/amass/mlib_part_00005.pth\n",
      "data/motion_lib/amass/mlib_part_00006.pth\n",
      "data/motion_lib/amass/mlib_part_00007.pth\n",
      "data/motion_lib/amass/mlib_part_00008.pth\n",
      "data/motion_lib/amass/mlib_part_00009.pth\n",
      "data/motion_lib/amass/mlib_part_00010.pth\n",
      "data/motion_lib/amass/mlib_part_00011.pth\n",
      "data/motion_lib/amass/mlib_part_00012.pth\n",
      "data/motion_lib/amass/mlib_part_00013.pth\n",
      "Not connected to PVD\n",
      "+++ Using GPU PhysX\n",
      "Physics Engine: PhysX\n",
      "Physics Device: cuda:0\n",
      "GPU Pipeline: enabled\n",
      "sampled motion ids: tensor([240, 124, 237,  ..., 235, 181, 129], device='cuda:0')\n",
      " 15%|██████▌                                   | 39/252 [00:10<00:58,  3.62it/s]^C\n",
      " 15%|██████▌                                   | 39/252 [00:10<00:56,  3.77it/s]\n",
      "Traceback (most recent call last):\n",
      "  File \"embodied_pose/run.py\", line 176, in <module>\n",
      "    main()\n",
      "  File \"embodied_pose/run.py\", line 171, in main\n",
      "    runner.run(vargs)\n",
      "  File \"/home/charlie/miniforge3/envs/rlgpu/lib/python3.8/site-packages/rl_games/torch_runner.py\", line 142, in run\n",
      "    player = self.create_player()\n",
      "  File \"/home/charlie/miniforge3/envs/rlgpu/lib/python3.8/site-packages/rl_games/torch_runner.py\", line 128, in create_player\n",
      "    return self.player_factory.create(self.algo_name, config=self.config)\n",
      "  File \"/home/charlie/miniforge3/envs/rlgpu/lib/python3.8/site-packages/rl_games/common/object_factory.py\", line 15, in create\n",
      "    return builder(**kwargs)\n",
      "  File \"embodied_pose/run.py\", line 149, in <lambda>\n",
      "    runner.player_factory.register_builder('pose_im_rnn', lambda **kwargs : ImitatorPlayer(**kwargs))     # testing agent\n",
      "  File \"/home/charlie/Documents/ATPIL/Training/vid2player3d/embodied_pose/players/im_player.py\", line 15, in __init__\n",
      "    BasePlayer.__init__(self, config)\n",
      "  File \"/home/charlie/miniforge3/envs/rlgpu/lib/python3.8/site-packages/rl_games/common/player.py\", line 17, in __init__\n",
      "    self.env = self.create_env()\n",
      "  File \"/home/charlie/miniforge3/envs/rlgpu/lib/python3.8/site-packages/rl_games/common/player.py\", line 136, in create_env\n",
      "    return env_configurations.configurations[self.env_name]['env_creator'](**self.env_config)\n",
      "  File \"embodied_pose/run.py\", line 142, in <lambda>\n",
      "    'env_creator': lambda **kwargs: create_rlgpu_env(**kwargs),\n",
      "  File \"embodied_pose/run.py\", line 47, in create_rlgpu_env\n",
      "    task, env = parse_task(args, cfg, cfg_train, sim_params)\n",
      "  File \"/home/charlie/Documents/ATPIL/Training/vid2player3d/embodied_pose/utils/parse_task.py\", line 30, in parse_task\n",
      "    task = eval(cfg['name'])(\n",
      "  File \"/home/charlie/Documents/ATPIL/Training/vid2player3d/embodied_pose/env/tasks/humanoid_smpl_im_vis.py\", line 27, in __init__\n",
      "    super().__init__(cfg=cfg,\n",
      "  File \"/home/charlie/Documents/ATPIL/Training/vid2player3d/embodied_pose/env/tasks/humanoid_smpl_im.py\", line 103, in __init__\n",
      "    super().__init__(cfg=cfg,\n",
      "  File \"/home/charlie/Documents/ATPIL/Training/vid2player3d/embodied_pose/env/tasks/humanoid_smpl.py\", line 46, in __init__\n",
      "    super().__init__(cfg=self.cfg)\n",
      "  File \"/home/charlie/Documents/ATPIL/Training/vid2player3d/embodied_pose/env/tasks/base_task.py\", line 48, in __init__\n",
      "    self.create_sim()\n",
      "  File \"/home/charlie/Documents/ATPIL/Training/vid2player3d/embodied_pose/env/tasks/humanoid_smpl.py\", line 133, in create_sim\n",
      "    self._create_envs(self.num_envs, self.cfg[\"env\"]['envSpacing'], int(np.sqrt(self.num_envs)))\n",
      "  File \"/home/charlie/Documents/ATPIL/Training/vid2player3d/embodied_pose/env/tasks/humanoid_smpl_im.py\", line 281, in _create_envs\n",
      "    res_acc += (_create_smpl_humanoid_xml([idx], None, smpl_robot, all_motion_bodies, all_motion_body_scales, 0))\n",
      "  File \"/home/charlie/Documents/ATPIL/Training/vid2player3d/embodied_pose/env/tasks/humanoid_smpl_im.py\", line 37, in _create_smpl_humanoid_xml\n",
      "    rest_joints = smpl_robot.load_from_skeleton(betas=gender_beta[None, 1:], gender=gender_beta[:1], scale=body_scales[idx], model_xml_path=model_xml_path)\n",
      "  File \"/home/charlie/Documents/ATPIL/Training/vid2player3d/./uhc/smpllib/smpl_local_robot.py\", line 1342, in load_from_skeleton\n",
      "    self.hull_dict = get_joint_geometries(\n",
      "  File \"/home/charlie/Documents/ATPIL/Training/vid2player3d/./uhc/smpllib/smpl_local_robot.py\", line 122, in get_joint_geometries\n",
      "    normal = np.cross(\n",
      "  File \"<__array_function__ internals>\", line 180, in cross\n",
      "  File \"/home/charlie/miniforge3/envs/rlgpu/lib/python3.8/site-packages/numpy/core/numeric.py\", line 1609, in cross\n",
      "    b = moveaxis(b, axisb, -1)\n",
      "  File \"<__array_function__ internals>\", line 180, in moveaxis\n",
      "  File \"/home/charlie/miniforge3/envs/rlgpu/lib/python3.8/site-packages/numpy/core/numeric.py\", line 1472, in moveaxis\n",
      "    order = [n for n in range(a.ndim) if n not in source]\n",
      "KeyboardInterrupt\n"
     ]
    }
   ],
   "source": [
    "# Training Low-Level Imitation Policy\n",
    "## Stage 1 : AMASS Motions\n",
    "# \n",
    "%cd vid2player3d\n",
    "\n",
    "!python embodied_pose/run.py --cfg amass_im --rl_device cuda:0 --test --headless"
   ]
  },
  {
   "cell_type": "code",
   "execution_count": 31,
   "metadata": {
    "executionInfo": {
     "elapsed": 33,
     "status": "ok",
     "timestamp": 1715899188209,
     "user": {
      "displayName": "Charlie Turner",
      "userId": "08536662203952271116"
     },
     "user_tz": -600
    },
    "id": "zVXL8cCJ76Ll"
   },
   "outputs": [
    {
     "name": "stdout",
     "output_type": "stream",
     "text": [
      "Importing module 'gym_38' (/home/charlie/Downloads/isaacgym/python/isaacgym/_bindings/linux-x86_64/gym_38.so)\n",
      "Setting GYM_USD_PLUG_INFO_PATH to /home/charlie/Downloads/isaacgym/python/isaacgym/_bindings/linux-x86_64/usd/plugInfo.json\n",
      "PyTorch version 2.3.1\n",
      "Device count 1\n",
      "/home/charlie/Downloads/isaacgym/python/isaacgym/_bindings/src/gymtorch\n",
      "Using /home/charlie/.cache/torch_extensions/py38_cu121 as PyTorch extensions root...\n",
      "Emitting ninja build file /home/charlie/.cache/torch_extensions/py38_cu121/gymtorch/build.ninja...\n",
      "Building extension module gymtorch...\n",
      "Allowing ninja to set a default number of workers... (overridable by setting the environment variable MAX_JOBS=N)\n",
      "ninja: no work to do.\n",
      "Loading extension module gymtorch...\n",
      "Setting seed: 7\n",
      "Started to train\n",
      "2024-06-21 09:16:14,547 - INFO - logger - logger initialized\n",
      "MOVING MOTION DATA TO GPU, USING CACHE: True\n",
      "Loading motion files to cuda:0:\n",
      "data/motion_lib/tennis/mlib_part_00000.pth\n",
      "Not connected to PVD\n",
      "+++ Using GPU PhysX\n",
      "Physics Engine: PhysX\n",
      "Physics Device: cuda:0\n",
      "GPU Pipeline: enabled\n",
      "sampled motion ids: tensor([1, 0, 1,  ..., 1, 1, 1], device='cuda:0')\n",
      "100%|█████████████████████████████████████████████| 2/2 [00:00<00:00,  4.01it/s]\n",
      "Finished generating 2 humanoids in 0.501s!\n",
      "Humanoid weights: [75.42,74.94,75.42,75.42,75.42,74.94,75.42,74.94,75.42,75.42,75.42,75.42,75.42,74.94,74.94,75.42,75.42,74.94,74.94,74.94,74.94,75.42,75.42,74.94,74.94,74.94,74.94,75.42,75.42,74.94,75.42,75.42]\n",
      "Finished loading 4096 humanoids in 1.547s!\n",
      "/home/charlie/miniforge3/envs/rlgpu/lib/python3.8/site-packages/gym/spaces/box.py:127: UserWarning: \u001b[33mWARN: Box bound precision lowered by casting to float32\u001b[0m\n",
      "  logger.warn(f\"Box bound precision lowered by casting to {self.dtype}\")\n",
      "RL device:  cuda:0\n",
      "4096\n",
      "75\n",
      "461\n",
      "0\n",
      "Box(-1.0, 1.0, (75,), float32) Box(-inf, inf, (461,), float32)\n",
      "Env info:\n",
      "{'action_space': Box(-1.0, 1.0, (75,), float32), 'observation_space': Box(-inf, inf, (461,), float32)}\n",
      "RunningMeanStd:  (1,)\n",
      "build mlp: 734\n",
      "build mlp: 734\n",
      "sigma\n",
      "actor_mlp.0.weight\n",
      "actor_mlp.0.bias\n",
      "actor_mlp.2.weight\n",
      "actor_mlp.2.bias\n",
      "actor_mlp.4.weight\n",
      "actor_mlp.4.bias\n",
      "critic_mlp.0.weight\n",
      "critic_mlp.0.bias\n",
      "critic_mlp.2.weight\n",
      "critic_mlp.2.bias\n",
      "critic_mlp.4.weight\n",
      "critic_mlp.4.bias\n",
      "value.weight\n",
      "value.bias\n",
      "mu.weight\n",
      "mu.bias\n",
      "loading model from EmbodyPose checkpoint...\n",
      "Shared keys in model and checkpoint: ['a2c_network.sigma', 'a2c_network.actor_mlp.0.weight', 'a2c_network.actor_mlp.0.bias', 'a2c_network.actor_mlp.2.weight', 'a2c_network.actor_mlp.2.bias', 'a2c_network.actor_mlp.4.weight', 'a2c_network.actor_mlp.4.bias', 'a2c_network.critic_mlp.0.weight', 'a2c_network.critic_mlp.0.bias', 'a2c_network.critic_mlp.2.weight', 'a2c_network.critic_mlp.2.bias', 'a2c_network.critic_mlp.4.weight', 'a2c_network.critic_mlp.4.bias', 'a2c_network.value.weight', 'a2c_network.value.bias', 'a2c_network.mu.weight', 'a2c_network.mu.bias', 'a2c_network.running_obs.n', 'a2c_network.running_obs.mean', 'a2c_network.running_obs.var', 'a2c_network.running_obs.std']\n",
      "Keys not found in current model: []\n",
      "Keys not found in checkpoint: []\n",
      "1\tT_play 4.79\tT_update 3.02\tETA 21:42:22\tstep_rewards 0.1601 [0.1746,0.4549,0.0448,0.0089]\teps_len 32.00\talive 0.91\tfps step 27337.0\tfps total 16770.0\ttennis_im\n",
      "=> saving checkpoint 'results/tennis_im/models/Sinner_latest.pth'\n",
      "=> saving checkpoint 'results/tennis_im/models/Sinner_epoch00001.pth'\n",
      "2\tT_play 2.55\tT_update 2.98\tETA 15:20:23\tstep_rewards 0.1609 [0.1754,0.4561,0.0457,0.0090]\teps_len 32.00\talive 0.91\tfps step 51491.0\tfps total 23728.0\ttennis_im\n",
      "=> saving checkpoint 'results/tennis_im/models/Sinner_latest.pth'\n",
      "=> saving checkpoint 'results/tennis_im/models/Sinner_epoch00002.pth'\n",
      "^C\n",
      "Traceback (most recent call last):\n",
      "  File \"embodied_pose/run.py\", line 176, in <module>\n",
      "    main()\n",
      "  File \"embodied_pose/run.py\", line 171, in main\n",
      "    runner.run(vargs)\n",
      "  File \"/home/charlie/miniforge3/envs/rlgpu/lib/python3.8/site-packages/rl_games/torch_runner.py\", line 139, in run\n",
      "    self.run_train()\n",
      "  File \"/home/charlie/miniforge3/envs/rlgpu/lib/python3.8/site-packages/rl_games/torch_runner.py\", line 125, in run_train\n",
      "    agent.train()\n",
      "  File \"/home/charlie/Documents/ATPIL/Training/vid2player3d/embodied_pose/agents/im_agent.py\", line 184, in train\n",
      "    train_info = self.train_epoch()\n",
      "  File \"/home/charlie/Documents/ATPIL/Training/vid2player3d/embodied_pose/learning/common_agent.py\", line 176, in train_epoch\n",
      "    curr_train_info = self.train_actor_critic(self.dataset[i])\n",
      "  File \"/home/charlie/miniforge3/envs/rlgpu/lib/python3.8/site-packages/rl_games/algos_torch/a2c_continuous.py\", line 169, in train_actor_critic\n",
      "    self.calc_gradients(input_dict)\n",
      "  File \"/home/charlie/Documents/ATPIL/Training/vid2player3d/embodied_pose/agents/im_agent.py\", line 510, in calc_gradients\n",
      "    res_dict = self.model(batch_dict)\n",
      "  File \"/home/charlie/miniforge3/envs/rlgpu/lib/python3.8/site-packages/torch/nn/modules/module.py\", line 1532, in _wrapped_call_impl\n",
      "    return self._call_impl(*args, **kwargs)\n",
      "  File \"/home/charlie/miniforge3/envs/rlgpu/lib/python3.8/site-packages/torch/nn/modules/module.py\", line 1541, in _call_impl\n",
      "    return forward_call(*args, **kwargs)\n",
      "  File \"/home/charlie/Documents/ATPIL/Training/vid2player3d/embodied_pose/models/im_models.py\", line 24, in forward\n",
      "    mu, logstd, value, states, extra = self.a2c_network(input_dict)\n",
      "  File \"/home/charlie/miniforge3/envs/rlgpu/lib/python3.8/site-packages/torch/nn/modules/module.py\", line 1532, in _wrapped_call_impl\n",
      "    return self._call_impl(*args, **kwargs)\n",
      "  File \"/home/charlie/miniforge3/envs/rlgpu/lib/python3.8/site-packages/torch/nn/modules/module.py\", line 1541, in _call_impl\n",
      "    return forward_call(*args, **kwargs)\n",
      "  File \"/home/charlie/Documents/ATPIL/Training/vid2player3d/embodied_pose/models/im_network_builder.py\", line 193, in forward\n",
      "    actor_outputs = self.eval_actor(obs_dict)\n",
      "  File \"/home/charlie/Documents/ATPIL/Training/vid2player3d/embodied_pose/models/im_network_builder.py\", line 204, in eval_actor\n",
      "    self.preprocess_input(obs_dict)\n",
      "  File \"/home/charlie/Documents/ATPIL/Training/vid2player3d/embodied_pose/models/im_network_builder.py\", line 183, in preprocess_input\n",
      "    obs_dict['human_obs'] = self.compute_humanoid_obs(obs_feat, cur_context)\n",
      "  File \"/home/charlie/Documents/ATPIL/Training/vid2player3d/embodied_pose/models/im_network_builder.py\", line 158, in compute_humanoid_obs\n",
      "    obs = compute_humanoid_observations_imitation(body_pos, body_rot, target_pos, target_rot, dof_pos, dof_vel, \n",
      "KeyboardInterrupt\n"
     ]
    }
   ],
   "source": [
    "# Stage 2  : Tennis Motions\n",
    "!python embodied_pose/run.py --cfg tennis_im --rl_device cuda:0 --headless"
   ]
  },
  {
   "cell_type": "code",
   "execution_count": 63,
   "metadata": {},
   "outputs": [
    {
     "name": "stdout",
     "output_type": "stream",
     "text": [
      "/home/charlie/Documents/ATPIL/Training/vid2player3d\n",
      "Importing module 'gym_38' (/home/charlie/Downloads/isaacgym/python/isaacgym/_bindings/linux-x86_64/gym_38.so)\n",
      "Setting GYM_USD_PLUG_INFO_PATH to /home/charlie/Downloads/isaacgym/python/isaacgym/_bindings/linux-x86_64/usd/plugInfo.json\n",
      "PyTorch version 2.3.1\n",
      "Device count 1\n",
      "/home/charlie/Downloads/isaacgym/python/isaacgym/_bindings/src/gymtorch\n",
      "Using /home/charlie/.cache/torch_extensions/py38_cu121 as PyTorch extensions root...\n",
      "Emitting ninja build file /home/charlie/.cache/torch_extensions/py38_cu121/gymtorch/build.ninja...\n",
      "Building extension module gymtorch...\n",
      "Allowing ninja to set a default number of workers... (overridable by setting the environment variable MAX_JOBS=N)\n",
      "ninja: no work to do.\n",
      "Loading extension module gymtorch...\n",
      "Setting seed: 7\n",
      "Started to play\n",
      "2024-06-21 11:33:19,000 - INFO - logger - logger initialized\n",
      "MOVING MOTION DATA TO GPU, USING CACHE: True\n",
      "Loading motion file to cuda:0: data/motion_lib/tennis/mlib_part_00000.pth\n",
      "Not connected to PVD\n",
      "+++ Using GPU PhysX\n",
      "Physics Engine: PhysX\n",
      "Physics Device: cuda:0\n",
      "GPU Pipeline: enabled\n",
      "sampled motion ids: tensor([1, 0, 1,  ..., 1, 1, 1], device='cuda:0')\n",
      "100%|█████████████████████████████████████████████| 2/2 [00:00<00:00,  3.93it/s]\n",
      "Finished generating 2 humanoids in 0.510s!\n",
      "Humanoid weights: [75.42,74.94,75.42,75.42,75.42,74.94,75.42,74.94,75.42,75.42,75.42,75.42,75.42,74.94,74.94,75.42,75.42,74.94,74.94,74.94,74.94,75.42,75.42,74.94,74.94,74.94,74.94,75.42,75.42,74.94,75.42,75.42]\n",
      "Creating window glfw\n",
      "Finished loading 4096 humanoids in 1.927s!\n",
      "/home/charlie/miniforge3/envs/rlgpu/lib/python3.8/site-packages/gym/spaces/box.py:127: UserWarning: \u001b[33mWARN: Box bound precision lowered by casting to float32\u001b[0m\n",
      "  logger.warn(f\"Box bound precision lowered by casting to {self.dtype}\")\n",
      "RL device:  cuda:0\n",
      "4096\n",
      "75\n",
      "461\n",
      "0\n",
      "{'observation_space': Box(-inf, inf, (461,), float32), 'action_space': Box(-1.0, 1.0, (75,), float32), 'agents': 1, 'value_size': 1}\n",
      "build mlp: 734\n",
      "build mlp: 734\n",
      "sigma\n",
      "actor_mlp.0.weight\n",
      "actor_mlp.0.bias\n",
      "actor_mlp.2.weight\n",
      "actor_mlp.2.bias\n",
      "actor_mlp.4.weight\n",
      "actor_mlp.4.bias\n",
      "critic_mlp.0.weight\n",
      "critic_mlp.0.bias\n",
      "critic_mlp.2.weight\n",
      "critic_mlp.2.bias\n",
      "critic_mlp.4.weight\n",
      "critic_mlp.4.bias\n",
      "value.weight\n",
      "value.bias\n",
      "mu.weight\n",
      "mu.bias\n"
     ]
    }
   ],
   "source": [
    "# Test\n",
    "%cd /home/charlie/Documents/ATPIL/Training/vid2player3d\n",
    "!python embodied_pose/run.py --cfg tennis_im --rl_device cuda:0 --test --checkpoint latest --test_motion_file data/motion_lib/tennis/mlib_part_00000.pth"
   ]
  },
  {
   "cell_type": "markdown",
   "metadata": {
    "id": "HJ2euC0NvB4D"
   },
   "source": [
    "# Train Motion Embedding"
   ]
  },
  {
   "cell_type": "code",
   "execution_count": null,
   "metadata": {
    "colab": {
     "base_uri": "https://localhost:8080/"
    },
    "executionInfo": {
     "elapsed": 30,
     "status": "ok",
     "timestamp": 1715899188210,
     "user": {
      "displayName": "Charlie Turner",
      "userId": "08536662203952271116"
     },
     "user_tz": -600
    },
    "id": "1m2ErCcyoXxt",
    "outputId": "19256b19-c692-4abc-c831-b7b23b70e7b2"
   },
   "outputs": [
    {
     "name": "stdout",
     "output_type": "stream",
     "text": [
      "Traceback (most recent call last):\n",
      "  File \"vid2player/motion_vae/train.py\", line 1, in <module>\n",
      "    from motion_vae.config import *\n",
      "ModuleNotFoundError: No module named 'motion_vae'\n"
     ]
    }
   ],
   "source": [
    "!python vid2player/motion_vae/train.py"
   ]
  },
  {
   "cell_type": "code",
   "execution_count": null,
   "metadata": {},
   "outputs": [
    {
     "name": "stdout",
     "output_type": "stream",
     "text": [
      "/home/charlie/Documents/ATPIL/Training/vid2player3d\n"
     ]
    }
   ],
   "source": []
  },
  {
   "cell_type": "code",
   "execution_count": null,
   "metadata": {},
   "outputs": [],
   "source": []
  }
 ],
 "metadata": {
  "accelerator": "GPU",
  "colab": {
   "authorship_tag": "ABX9TyM0TNLp8waDugcDFM7QzFpo",
   "gpuType": "T4",
   "provenance": []
  },
  "kernelspec": {
   "display_name": "base",
   "language": "python",
   "name": "python3"
  },
  "language_info": {
   "codemirror_mode": {
    "name": "ipython",
    "version": 3
   },
   "file_extension": ".py",
   "mimetype": "text/x-python",
   "name": "python",
   "nbconvert_exporter": "python",
   "pygments_lexer": "ipython3",
   "version": "3.12.9"
  }
 },
 "nbformat": 4,
 "nbformat_minor": 0
}
